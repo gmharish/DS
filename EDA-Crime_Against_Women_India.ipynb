{
 "cells": [
  {
   "cell_type": "code",
   "execution_count": 160,
   "metadata": {},
   "outputs": [],
   "source": [
    "import pandas as pd\n",
    "import numpy as np\n",
    "import seaborn as sns\n",
    "import matplotlib.pyplot as plt"
   ]
  },
  {
   "cell_type": "markdown",
   "metadata": {},
   "source": [
    "#### Loading the data"
   ]
  },
  {
   "cell_type": "code",
   "execution_count": 161,
   "metadata": {},
   "outputs": [],
   "source": [
    "crime=pd.read_csv('C:Desktop/EDA/crimes_against_women_2001-2014.csv')"
   ]
  },
  {
   "cell_type": "markdown",
   "metadata": {},
   "source": [
    "#### Reading the first 5 rows"
   ]
  },
  {
   "cell_type": "code",
   "execution_count": 162,
   "metadata": {},
   "outputs": [
    {
     "data": {
      "text/html": [
       "<div>\n",
       "<style scoped>\n",
       "    .dataframe tbody tr th:only-of-type {\n",
       "        vertical-align: middle;\n",
       "    }\n",
       "\n",
       "    .dataframe tbody tr th {\n",
       "        vertical-align: top;\n",
       "    }\n",
       "\n",
       "    .dataframe thead th {\n",
       "        text-align: right;\n",
       "    }\n",
       "</style>\n",
       "<table border=\"1\" class=\"dataframe\">\n",
       "  <thead>\n",
       "    <tr style=\"text-align: right;\">\n",
       "      <th></th>\n",
       "      <th>Unnamed: 0</th>\n",
       "      <th>STATE/UT</th>\n",
       "      <th>DISTRICT</th>\n",
       "      <th>Year</th>\n",
       "      <th>Rape</th>\n",
       "      <th>Kidnapping and Abduction</th>\n",
       "      <th>Dowry Deaths</th>\n",
       "      <th>Assault on women with intent to outrage her modesty</th>\n",
       "      <th>Insult to modesty of Women</th>\n",
       "      <th>Cruelty by Husband or his Relatives</th>\n",
       "      <th>Importation of Girls</th>\n",
       "    </tr>\n",
       "  </thead>\n",
       "  <tbody>\n",
       "    <tr>\n",
       "      <th>0</th>\n",
       "      <td>0</td>\n",
       "      <td>ANDHRA PRADESH</td>\n",
       "      <td>ADILABAD</td>\n",
       "      <td>2001</td>\n",
       "      <td>50</td>\n",
       "      <td>30</td>\n",
       "      <td>16</td>\n",
       "      <td>149</td>\n",
       "      <td>34</td>\n",
       "      <td>175</td>\n",
       "      <td>0</td>\n",
       "    </tr>\n",
       "    <tr>\n",
       "      <th>1</th>\n",
       "      <td>1</td>\n",
       "      <td>ANDHRA PRADESH</td>\n",
       "      <td>ANANTAPUR</td>\n",
       "      <td>2001</td>\n",
       "      <td>23</td>\n",
       "      <td>30</td>\n",
       "      <td>7</td>\n",
       "      <td>118</td>\n",
       "      <td>24</td>\n",
       "      <td>154</td>\n",
       "      <td>0</td>\n",
       "    </tr>\n",
       "    <tr>\n",
       "      <th>2</th>\n",
       "      <td>2</td>\n",
       "      <td>ANDHRA PRADESH</td>\n",
       "      <td>CHITTOOR</td>\n",
       "      <td>2001</td>\n",
       "      <td>27</td>\n",
       "      <td>34</td>\n",
       "      <td>14</td>\n",
       "      <td>112</td>\n",
       "      <td>83</td>\n",
       "      <td>186</td>\n",
       "      <td>0</td>\n",
       "    </tr>\n",
       "    <tr>\n",
       "      <th>3</th>\n",
       "      <td>3</td>\n",
       "      <td>ANDHRA PRADESH</td>\n",
       "      <td>CUDDAPAH</td>\n",
       "      <td>2001</td>\n",
       "      <td>20</td>\n",
       "      <td>20</td>\n",
       "      <td>17</td>\n",
       "      <td>126</td>\n",
       "      <td>38</td>\n",
       "      <td>57</td>\n",
       "      <td>0</td>\n",
       "    </tr>\n",
       "    <tr>\n",
       "      <th>4</th>\n",
       "      <td>4</td>\n",
       "      <td>ANDHRA PRADESH</td>\n",
       "      <td>EAST GODAVARI</td>\n",
       "      <td>2001</td>\n",
       "      <td>23</td>\n",
       "      <td>26</td>\n",
       "      <td>12</td>\n",
       "      <td>109</td>\n",
       "      <td>58</td>\n",
       "      <td>247</td>\n",
       "      <td>0</td>\n",
       "    </tr>\n",
       "  </tbody>\n",
       "</table>\n",
       "</div>"
      ],
      "text/plain": [
       "   Unnamed: 0        STATE/UT       DISTRICT  Year  Rape  \\\n",
       "0           0  ANDHRA PRADESH       ADILABAD  2001    50   \n",
       "1           1  ANDHRA PRADESH      ANANTAPUR  2001    23   \n",
       "2           2  ANDHRA PRADESH       CHITTOOR  2001    27   \n",
       "3           3  ANDHRA PRADESH       CUDDAPAH  2001    20   \n",
       "4           4  ANDHRA PRADESH  EAST GODAVARI  2001    23   \n",
       "\n",
       "   Kidnapping and Abduction  Dowry Deaths  \\\n",
       "0                        30            16   \n",
       "1                        30             7   \n",
       "2                        34            14   \n",
       "3                        20            17   \n",
       "4                        26            12   \n",
       "\n",
       "   Assault on women with intent to outrage her modesty  \\\n",
       "0                                                149     \n",
       "1                                                118     \n",
       "2                                                112     \n",
       "3                                                126     \n",
       "4                                                109     \n",
       "\n",
       "   Insult to modesty of Women  Cruelty by Husband or his Relatives  \\\n",
       "0                          34                                  175   \n",
       "1                          24                                  154   \n",
       "2                          83                                  186   \n",
       "3                          38                                   57   \n",
       "4                          58                                  247   \n",
       "\n",
       "   Importation of Girls  \n",
       "0                     0  \n",
       "1                     0  \n",
       "2                     0  \n",
       "3                     0  \n",
       "4                     0  "
      ]
     },
     "execution_count": 162,
     "metadata": {},
     "output_type": "execute_result"
    }
   ],
   "source": [
    "crime.head()"
   ]
  },
  {
   "cell_type": "markdown",
   "metadata": {},
   "source": [
    "#### Getting the Shape of the Data"
   ]
  },
  {
   "cell_type": "code",
   "execution_count": 163,
   "metadata": {},
   "outputs": [
    {
     "data": {
      "text/plain": [
       "(10677, 11)"
      ]
     },
     "execution_count": 163,
     "metadata": {},
     "output_type": "execute_result"
    }
   ],
   "source": [
    "crime.shape"
   ]
  },
  {
   "cell_type": "markdown",
   "metadata": {},
   "source": [
    "#### Getting the number columns info"
   ]
  },
  {
   "cell_type": "code",
   "execution_count": 164,
   "metadata": {},
   "outputs": [
    {
     "data": {
      "text/plain": [
       "Index(['Unnamed: 0', 'STATE/UT', 'DISTRICT', 'Year', 'Rape',\n",
       "       'Kidnapping and Abduction', 'Dowry Deaths',\n",
       "       'Assault on women with intent to outrage her modesty',\n",
       "       'Insult to modesty of Women', 'Cruelty by Husband or his Relatives',\n",
       "       'Importation of Girls'],\n",
       "      dtype='object')"
      ]
     },
     "execution_count": 164,
     "metadata": {},
     "output_type": "execute_result"
    }
   ],
   "source": [
    "crime.columns"
   ]
  },
  {
   "cell_type": "markdown",
   "metadata": {},
   "source": [
    "#### Getting the info & Data types"
   ]
  },
  {
   "cell_type": "code",
   "execution_count": 165,
   "metadata": {},
   "outputs": [
    {
     "name": "stdout",
     "output_type": "stream",
     "text": [
      "<class 'pandas.core.frame.DataFrame'>\n",
      "RangeIndex: 10677 entries, 0 to 10676\n",
      "Data columns (total 11 columns):\n",
      " #   Column                                               Non-Null Count  Dtype \n",
      "---  ------                                               --------------  ----- \n",
      " 0   Unnamed: 0                                           10677 non-null  int64 \n",
      " 1   STATE/UT                                             10677 non-null  object\n",
      " 2   DISTRICT                                             10677 non-null  object\n",
      " 3   Year                                                 10677 non-null  int64 \n",
      " 4   Rape                                                 10677 non-null  int64 \n",
      " 5   Kidnapping and Abduction                             10677 non-null  int64 \n",
      " 6   Dowry Deaths                                         10677 non-null  int64 \n",
      " 7   Assault on women with intent to outrage her modesty  10677 non-null  int64 \n",
      " 8   Insult to modesty of Women                           10677 non-null  int64 \n",
      " 9   Cruelty by Husband or his Relatives                  10677 non-null  int64 \n",
      " 10  Importation of Girls                                 10677 non-null  int64 \n",
      "dtypes: int64(9), object(2)\n",
      "memory usage: 917.7+ KB\n"
     ]
    }
   ],
   "source": [
    "crime.info()"
   ]
  },
  {
   "cell_type": "markdown",
   "metadata": {},
   "source": [
    "#### Checking the Null values if any"
   ]
  },
  {
   "cell_type": "code",
   "execution_count": 166,
   "metadata": {},
   "outputs": [
    {
     "data": {
      "text/plain": [
       "Unnamed: 0                                             0\n",
       "STATE/UT                                               0\n",
       "DISTRICT                                               0\n",
       "Year                                                   0\n",
       "Rape                                                   0\n",
       "Kidnapping and Abduction                               0\n",
       "Dowry Deaths                                           0\n",
       "Assault on women with intent to outrage her modesty    0\n",
       "Insult to modesty of Women                             0\n",
       "Cruelty by Husband or his Relatives                    0\n",
       "Importation of Girls                                   0\n",
       "dtype: int64"
      ]
     },
     "execution_count": 166,
     "metadata": {},
     "output_type": "execute_result"
    }
   ],
   "source": [
    "crime.isnull().sum()"
   ]
  },
  {
   "cell_type": "markdown",
   "metadata": {},
   "source": [
    "#### There seems to be no null values in the Data."
   ]
  },
  {
   "cell_type": "markdown",
   "metadata": {},
   "source": [
    "#### Checking the general Statistics"
   ]
  },
  {
   "cell_type": "code",
   "execution_count": 167,
   "metadata": {},
   "outputs": [
    {
     "data": {
      "text/html": [
       "<div>\n",
       "<style scoped>\n",
       "    .dataframe tbody tr th:only-of-type {\n",
       "        vertical-align: middle;\n",
       "    }\n",
       "\n",
       "    .dataframe tbody tr th {\n",
       "        vertical-align: top;\n",
       "    }\n",
       "\n",
       "    .dataframe thead th {\n",
       "        text-align: right;\n",
       "    }\n",
       "</style>\n",
       "<table border=\"1\" class=\"dataframe\">\n",
       "  <thead>\n",
       "    <tr style=\"text-align: right;\">\n",
       "      <th></th>\n",
       "      <th>Unnamed: 0</th>\n",
       "      <th>Year</th>\n",
       "      <th>Rape</th>\n",
       "      <th>Kidnapping and Abduction</th>\n",
       "      <th>Dowry Deaths</th>\n",
       "      <th>Assault on women with intent to outrage her modesty</th>\n",
       "      <th>Insult to modesty of Women</th>\n",
       "      <th>Cruelty by Husband or his Relatives</th>\n",
       "      <th>Importation of Girls</th>\n",
       "    </tr>\n",
       "  </thead>\n",
       "  <tbody>\n",
       "    <tr>\n",
       "      <th>count</th>\n",
       "      <td>10677.000000</td>\n",
       "      <td>10677.000000</td>\n",
       "      <td>10677.000000</td>\n",
       "      <td>10677.000000</td>\n",
       "      <td>10677.000000</td>\n",
       "      <td>10677.000000</td>\n",
       "      <td>10677.000000</td>\n",
       "      <td>10677.000000</td>\n",
       "      <td>10677.000000</td>\n",
       "    </tr>\n",
       "    <tr>\n",
       "      <th>mean</th>\n",
       "      <td>3871.570198</td>\n",
       "      <td>2007.697949</td>\n",
       "      <td>57.989885</td>\n",
       "      <td>69.888358</td>\n",
       "      <td>20.181699</td>\n",
       "      <td>113.539196</td>\n",
       "      <td>27.419313</td>\n",
       "      <td>209.224314</td>\n",
       "      <td>0.175330</td>\n",
       "    </tr>\n",
       "    <tr>\n",
       "      <th>std</th>\n",
       "      <td>2816.369918</td>\n",
       "      <td>4.046874</td>\n",
       "      <td>214.230398</td>\n",
       "      <td>311.623450</td>\n",
       "      <td>98.276531</td>\n",
       "      <td>458.903951</td>\n",
       "      <td>167.806797</td>\n",
       "      <td>905.664362</td>\n",
       "      <td>2.228637</td>\n",
       "    </tr>\n",
       "    <tr>\n",
       "      <th>min</th>\n",
       "      <td>0.000000</td>\n",
       "      <td>2001.000000</td>\n",
       "      <td>0.000000</td>\n",
       "      <td>0.000000</td>\n",
       "      <td>0.000000</td>\n",
       "      <td>0.000000</td>\n",
       "      <td>0.000000</td>\n",
       "      <td>0.000000</td>\n",
       "      <td>0.000000</td>\n",
       "    </tr>\n",
       "    <tr>\n",
       "      <th>25%</th>\n",
       "      <td>1009.000000</td>\n",
       "      <td>2004.000000</td>\n",
       "      <td>8.000000</td>\n",
       "      <td>6.000000</td>\n",
       "      <td>1.000000</td>\n",
       "      <td>10.000000</td>\n",
       "      <td>0.000000</td>\n",
       "      <td>11.000000</td>\n",
       "      <td>0.000000</td>\n",
       "    </tr>\n",
       "    <tr>\n",
       "      <th>50%</th>\n",
       "      <td>3678.000000</td>\n",
       "      <td>2008.000000</td>\n",
       "      <td>22.000000</td>\n",
       "      <td>20.000000</td>\n",
       "      <td>5.000000</td>\n",
       "      <td>34.000000</td>\n",
       "      <td>2.000000</td>\n",
       "      <td>50.000000</td>\n",
       "      <td>0.000000</td>\n",
       "    </tr>\n",
       "    <tr>\n",
       "      <th>75%</th>\n",
       "      <td>6347.000000</td>\n",
       "      <td>2011.000000</td>\n",
       "      <td>44.000000</td>\n",
       "      <td>49.000000</td>\n",
       "      <td>16.000000</td>\n",
       "      <td>85.000000</td>\n",
       "      <td>12.000000</td>\n",
       "      <td>144.000000</td>\n",
       "      <td>0.000000</td>\n",
       "    </tr>\n",
       "    <tr>\n",
       "      <th>max</th>\n",
       "      <td>9016.000000</td>\n",
       "      <td>2014.000000</td>\n",
       "      <td>5076.000000</td>\n",
       "      <td>10626.000000</td>\n",
       "      <td>2469.000000</td>\n",
       "      <td>10001.000000</td>\n",
       "      <td>4970.000000</td>\n",
       "      <td>23278.000000</td>\n",
       "      <td>83.000000</td>\n",
       "    </tr>\n",
       "  </tbody>\n",
       "</table>\n",
       "</div>"
      ],
      "text/plain": [
       "         Unnamed: 0          Year          Rape  Kidnapping and Abduction  \\\n",
       "count  10677.000000  10677.000000  10677.000000              10677.000000   \n",
       "mean    3871.570198   2007.697949     57.989885                 69.888358   \n",
       "std     2816.369918      4.046874    214.230398                311.623450   \n",
       "min        0.000000   2001.000000      0.000000                  0.000000   \n",
       "25%     1009.000000   2004.000000      8.000000                  6.000000   \n",
       "50%     3678.000000   2008.000000     22.000000                 20.000000   \n",
       "75%     6347.000000   2011.000000     44.000000                 49.000000   \n",
       "max     9016.000000   2014.000000   5076.000000              10626.000000   \n",
       "\n",
       "       Dowry Deaths  Assault on women with intent to outrage her modesty  \\\n",
       "count  10677.000000                                       10677.000000     \n",
       "mean      20.181699                                         113.539196     \n",
       "std       98.276531                                         458.903951     \n",
       "min        0.000000                                           0.000000     \n",
       "25%        1.000000                                          10.000000     \n",
       "50%        5.000000                                          34.000000     \n",
       "75%       16.000000                                          85.000000     \n",
       "max     2469.000000                                       10001.000000     \n",
       "\n",
       "       Insult to modesty of Women  Cruelty by Husband or his Relatives  \\\n",
       "count                10677.000000                         10677.000000   \n",
       "mean                    27.419313                           209.224314   \n",
       "std                    167.806797                           905.664362   \n",
       "min                      0.000000                             0.000000   \n",
       "25%                      0.000000                            11.000000   \n",
       "50%                      2.000000                            50.000000   \n",
       "75%                     12.000000                           144.000000   \n",
       "max                   4970.000000                         23278.000000   \n",
       "\n",
       "       Importation of Girls  \n",
       "count          10677.000000  \n",
       "mean               0.175330  \n",
       "std                2.228637  \n",
       "min                0.000000  \n",
       "25%                0.000000  \n",
       "50%                0.000000  \n",
       "75%                0.000000  \n",
       "max               83.000000  "
      ]
     },
     "execution_count": 167,
     "metadata": {},
     "output_type": "execute_result"
    }
   ],
   "source": [
    "crime.describe()"
   ]
  },
  {
   "cell_type": "markdown",
   "metadata": {},
   "source": [
    "#### As of now, we could remove \"Unamed column\" as there seems to be no significance in our analysis. "
   ]
  },
  {
   "cell_type": "code",
   "execution_count": 168,
   "metadata": {},
   "outputs": [],
   "source": [
    "crime.drop(columns='Unnamed: 0',inplace=True)"
   ]
  },
  {
   "cell_type": "markdown",
   "metadata": {},
   "source": [
    "#### Checking the Dataframe again"
   ]
  },
  {
   "cell_type": "code",
   "execution_count": 169,
   "metadata": {},
   "outputs": [
    {
     "data": {
      "text/html": [
       "<div>\n",
       "<style scoped>\n",
       "    .dataframe tbody tr th:only-of-type {\n",
       "        vertical-align: middle;\n",
       "    }\n",
       "\n",
       "    .dataframe tbody tr th {\n",
       "        vertical-align: top;\n",
       "    }\n",
       "\n",
       "    .dataframe thead th {\n",
       "        text-align: right;\n",
       "    }\n",
       "</style>\n",
       "<table border=\"1\" class=\"dataframe\">\n",
       "  <thead>\n",
       "    <tr style=\"text-align: right;\">\n",
       "      <th></th>\n",
       "      <th>STATE/UT</th>\n",
       "      <th>DISTRICT</th>\n",
       "      <th>Year</th>\n",
       "      <th>Rape</th>\n",
       "      <th>Kidnapping and Abduction</th>\n",
       "      <th>Dowry Deaths</th>\n",
       "      <th>Assault on women with intent to outrage her modesty</th>\n",
       "      <th>Insult to modesty of Women</th>\n",
       "      <th>Cruelty by Husband or his Relatives</th>\n",
       "      <th>Importation of Girls</th>\n",
       "    </tr>\n",
       "  </thead>\n",
       "  <tbody>\n",
       "    <tr>\n",
       "      <th>0</th>\n",
       "      <td>ANDHRA PRADESH</td>\n",
       "      <td>ADILABAD</td>\n",
       "      <td>2001</td>\n",
       "      <td>50</td>\n",
       "      <td>30</td>\n",
       "      <td>16</td>\n",
       "      <td>149</td>\n",
       "      <td>34</td>\n",
       "      <td>175</td>\n",
       "      <td>0</td>\n",
       "    </tr>\n",
       "    <tr>\n",
       "      <th>1</th>\n",
       "      <td>ANDHRA PRADESH</td>\n",
       "      <td>ANANTAPUR</td>\n",
       "      <td>2001</td>\n",
       "      <td>23</td>\n",
       "      <td>30</td>\n",
       "      <td>7</td>\n",
       "      <td>118</td>\n",
       "      <td>24</td>\n",
       "      <td>154</td>\n",
       "      <td>0</td>\n",
       "    </tr>\n",
       "    <tr>\n",
       "      <th>2</th>\n",
       "      <td>ANDHRA PRADESH</td>\n",
       "      <td>CHITTOOR</td>\n",
       "      <td>2001</td>\n",
       "      <td>27</td>\n",
       "      <td>34</td>\n",
       "      <td>14</td>\n",
       "      <td>112</td>\n",
       "      <td>83</td>\n",
       "      <td>186</td>\n",
       "      <td>0</td>\n",
       "    </tr>\n",
       "    <tr>\n",
       "      <th>3</th>\n",
       "      <td>ANDHRA PRADESH</td>\n",
       "      <td>CUDDAPAH</td>\n",
       "      <td>2001</td>\n",
       "      <td>20</td>\n",
       "      <td>20</td>\n",
       "      <td>17</td>\n",
       "      <td>126</td>\n",
       "      <td>38</td>\n",
       "      <td>57</td>\n",
       "      <td>0</td>\n",
       "    </tr>\n",
       "    <tr>\n",
       "      <th>4</th>\n",
       "      <td>ANDHRA PRADESH</td>\n",
       "      <td>EAST GODAVARI</td>\n",
       "      <td>2001</td>\n",
       "      <td>23</td>\n",
       "      <td>26</td>\n",
       "      <td>12</td>\n",
       "      <td>109</td>\n",
       "      <td>58</td>\n",
       "      <td>247</td>\n",
       "      <td>0</td>\n",
       "    </tr>\n",
       "  </tbody>\n",
       "</table>\n",
       "</div>"
      ],
      "text/plain": [
       "         STATE/UT       DISTRICT  Year  Rape  Kidnapping and Abduction  \\\n",
       "0  ANDHRA PRADESH       ADILABAD  2001    50                        30   \n",
       "1  ANDHRA PRADESH      ANANTAPUR  2001    23                        30   \n",
       "2  ANDHRA PRADESH       CHITTOOR  2001    27                        34   \n",
       "3  ANDHRA PRADESH       CUDDAPAH  2001    20                        20   \n",
       "4  ANDHRA PRADESH  EAST GODAVARI  2001    23                        26   \n",
       "\n",
       "   Dowry Deaths  Assault on women with intent to outrage her modesty  \\\n",
       "0            16                                                149     \n",
       "1             7                                                118     \n",
       "2            14                                                112     \n",
       "3            17                                                126     \n",
       "4            12                                                109     \n",
       "\n",
       "   Insult to modesty of Women  Cruelty by Husband or his Relatives  \\\n",
       "0                          34                                  175   \n",
       "1                          24                                  154   \n",
       "2                          83                                  186   \n",
       "3                          38                                   57   \n",
       "4                          58                                  247   \n",
       "\n",
       "   Importation of Girls  \n",
       "0                     0  \n",
       "1                     0  \n",
       "2                     0  \n",
       "3                     0  \n",
       "4                     0  "
      ]
     },
     "execution_count": 169,
     "metadata": {},
     "output_type": "execute_result"
    }
   ],
   "source": [
    "crime.head()"
   ]
  },
  {
   "cell_type": "markdown",
   "metadata": {},
   "source": [
    "#### Lets check the unique values in Districts"
   ]
  },
  {
   "cell_type": "code",
   "execution_count": 170,
   "metadata": {},
   "outputs": [
    {
     "data": {
      "text/plain": [
       "1605"
      ]
     },
     "execution_count": 170,
     "metadata": {},
     "output_type": "execute_result"
    }
   ],
   "source": [
    "len(crime.DISTRICT.unique())"
   ]
  },
  {
   "cell_type": "markdown",
   "metadata": {},
   "source": [
    "#### HOwever, India has 718 districts & hence the data about the districts seems incorrect. \n",
    "#### Hence , we would go ahead & drop this column & lets work on the State/ UT column. "
   ]
  },
  {
   "cell_type": "code",
   "execution_count": 171,
   "metadata": {},
   "outputs": [],
   "source": [
    "crime.drop(columns=['DISTRICT'],inplace=True)"
   ]
  },
  {
   "cell_type": "markdown",
   "metadata": {},
   "source": [
    "#### We will even rename some of the columns as follows for our simplicity"
   ]
  },
  {
   "cell_type": "code",
   "execution_count": 172,
   "metadata": {},
   "outputs": [],
   "source": [
    "crime.rename(columns={'Kidnapping and Abduction':'Kidnap_Abduct','Dowry Deaths':'Dowry_Deaths',\n",
    "                      'Assault on women with intent to outrage her modesty':'Outrage_Modesty',\n",
    "                      'Insult to modesty of Women':'Insult_Modesty',\n",
    "                      'Cruelty by Husband or his Relatives':'Domestic_Violence',\n",
    "                      'Importation of Girls':'Importing_Girls'},inplace=True)"
   ]
  },
  {
   "cell_type": "code",
   "execution_count": 173,
   "metadata": {},
   "outputs": [
    {
     "data": {
      "text/plain": [
       "Index(['STATE/UT', 'Year', 'Rape', 'Kidnap_Abduct', 'Dowry_Deaths',\n",
       "       'Outrage_Modesty', 'Insult_Modesty', 'Domestic_Violence',\n",
       "       'Importing_Girls'],\n",
       "      dtype='object')"
      ]
     },
     "execution_count": 173,
     "metadata": {},
     "output_type": "execute_result"
    }
   ],
   "source": [
    "crime.columns"
   ]
  },
  {
   "cell_type": "markdown",
   "metadata": {},
   "source": [
    "#### Checking the unique values in the State/UT column"
   ]
  },
  {
   "cell_type": "code",
   "execution_count": 174,
   "metadata": {},
   "outputs": [
    {
     "data": {
      "text/plain": [
       "array(['ANDHRA PRADESH', 'ARUNACHAL PRADESH', 'ASSAM', 'BIHAR',\n",
       "       'CHHATTISGARH', 'GOA', 'GUJARAT', 'HARYANA', 'HIMACHAL PRADESH',\n",
       "       'JAMMU & KASHMIR', 'JHARKHAND', 'KARNATAKA', 'KERALA',\n",
       "       'MADHYA PRADESH', 'MAHARASHTRA', 'MANIPUR', 'MEGHALAYA', 'MIZORAM',\n",
       "       'NAGALAND', 'ODISHA', 'PUNJAB', 'RAJASTHAN', 'SIKKIM',\n",
       "       'TAMIL NADU', 'TRIPURA', 'UTTAR PRADESH', 'UTTARAKHAND',\n",
       "       'WEST BENGAL', 'A & N ISLANDS', 'CHANDIGARH', 'D & N HAVELI',\n",
       "       'DAMAN & DIU', 'DELHI', 'LAKSHADWEEP', 'PUDUCHERRY',\n",
       "       'Andhra Pradesh', 'Arunachal Pradesh', 'Assam', 'Bihar',\n",
       "       'Chhattisgarh', 'Goa', 'Gujarat', 'Haryana', 'Himachal Pradesh',\n",
       "       'Jammu & Kashmir', 'Jharkhand', 'Karnataka', 'Kerala',\n",
       "       'Madhya Pradesh', 'Maharashtra', 'Manipur', 'Meghalaya', 'Mizoram',\n",
       "       'Nagaland', 'Odisha', 'Punjab', 'Rajasthan', 'Sikkim',\n",
       "       'Tamil Nadu', 'Tripura', 'Uttar Pradesh', 'Uttarakhand',\n",
       "       'West Bengal', 'A&N Islands', 'Chandigarh', 'D&N Haveli',\n",
       "       'Daman & Diu', 'Delhi UT', 'Lakshadweep', 'Puducherry',\n",
       "       'Telangana', 'A & N Islands'], dtype=object)"
      ]
     },
     "execution_count": 174,
     "metadata": {},
     "output_type": "execute_result"
    }
   ],
   "source": [
    "crime['STATE/UT'].unique()"
   ]
  },
  {
   "cell_type": "markdown",
   "metadata": {},
   "source": [
    "#### As we see, all of them are duplicated in lower case & upper case. Also there are issues regarding the Space problem. \n",
    "#### For instance, 'A & N ISLANDS' and 'A&N Islands'/ 'D & N HAVELI' and 'D&N Haveli' / 'DELHI' and 'Delhi UT'\n",
    "#### We would need figure out a way to replace these. "
   ]
  },
  {
   "cell_type": "code",
   "execution_count": 175,
   "metadata": {},
   "outputs": [],
   "source": [
    "crime['STATE/UT']=crime['STATE/UT'].replace('A & N ISLANDS','A&N Islands')\n",
    "crime['STATE/UT']=crime['STATE/UT'].replace('D & N HAVELI','D&N Haveli')\n",
    "crime['STATE/UT']=crime['STATE/UT'].replace('Delhi UT','DELHI')"
   ]
  },
  {
   "cell_type": "markdown",
   "metadata": {},
   "source": [
    "#### Now, we will convert all the upper case to lower case"
   ]
  },
  {
   "cell_type": "code",
   "execution_count": 176,
   "metadata": {},
   "outputs": [],
   "source": [
    "crime['STATE/UT']=crime['STATE/UT'].apply(lambda x : x.lower())"
   ]
  },
  {
   "cell_type": "code",
   "execution_count": 177,
   "metadata": {},
   "outputs": [
    {
     "data": {
      "text/plain": [
       "array(['andhra pradesh', 'arunachal pradesh', 'assam', 'bihar',\n",
       "       'chhattisgarh', 'goa', 'gujarat', 'haryana', 'himachal pradesh',\n",
       "       'jammu & kashmir', 'jharkhand', 'karnataka', 'kerala',\n",
       "       'madhya pradesh', 'maharashtra', 'manipur', 'meghalaya', 'mizoram',\n",
       "       'nagaland', 'odisha', 'punjab', 'rajasthan', 'sikkim',\n",
       "       'tamil nadu', 'tripura', 'uttar pradesh', 'uttarakhand',\n",
       "       'west bengal', 'a&n islands', 'chandigarh', 'd&n haveli',\n",
       "       'daman & diu', 'delhi', 'lakshadweep', 'puducherry', 'telangana',\n",
       "       'a & n islands'], dtype=object)"
      ]
     },
     "execution_count": 177,
     "metadata": {},
     "output_type": "execute_result"
    }
   ],
   "source": [
    "crime['STATE/UT'].unique()"
   ]
  },
  {
   "cell_type": "markdown",
   "metadata": {},
   "source": [
    "##### Somehow, looks like 'a&n islands' seems repeatable again. Lets try to eliminate it again. "
   ]
  },
  {
   "cell_type": "code",
   "execution_count": 178,
   "metadata": {},
   "outputs": [],
   "source": [
    "crime['STATE/UT']=crime['STATE/UT'].replace('a & n islands','a&n islands')"
   ]
  },
  {
   "cell_type": "code",
   "execution_count": 179,
   "metadata": {},
   "outputs": [
    {
     "data": {
      "text/plain": [
       "array(['andhra pradesh', 'arunachal pradesh', 'assam', 'bihar',\n",
       "       'chhattisgarh', 'goa', 'gujarat', 'haryana', 'himachal pradesh',\n",
       "       'jammu & kashmir', 'jharkhand', 'karnataka', 'kerala',\n",
       "       'madhya pradesh', 'maharashtra', 'manipur', 'meghalaya', 'mizoram',\n",
       "       'nagaland', 'odisha', 'punjab', 'rajasthan', 'sikkim',\n",
       "       'tamil nadu', 'tripura', 'uttar pradesh', 'uttarakhand',\n",
       "       'west bengal', 'a&n islands', 'chandigarh', 'd&n haveli',\n",
       "       'daman & diu', 'delhi', 'lakshadweep', 'puducherry', 'telangana'],\n",
       "      dtype=object)"
      ]
     },
     "execution_count": 179,
     "metadata": {},
     "output_type": "execute_result"
    }
   ],
   "source": [
    "crime['STATE/UT'].unique()"
   ]
  },
  {
   "cell_type": "code",
   "execution_count": 180,
   "metadata": {},
   "outputs": [
    {
     "data": {
      "text/plain": [
       "36"
      ]
     },
     "execution_count": 180,
     "metadata": {},
     "output_type": "execute_result"
    }
   ],
   "source": [
    "len(crime['STATE/UT'].unique())"
   ]
  },
  {
   "cell_type": "markdown",
   "metadata": {},
   "source": [
    "#### Everything looks good now. And also, Just for simplicity, we will rename the column to 'STATE/UT' to \"States\""
   ]
  },
  {
   "cell_type": "code",
   "execution_count": 181,
   "metadata": {},
   "outputs": [],
   "source": [
    "crime.rename(columns={'STATE/UT':'States'},inplace=True)"
   ]
  },
  {
   "cell_type": "code",
   "execution_count": 182,
   "metadata": {},
   "outputs": [
    {
     "data": {
      "text/html": [
       "<div>\n",
       "<style scoped>\n",
       "    .dataframe tbody tr th:only-of-type {\n",
       "        vertical-align: middle;\n",
       "    }\n",
       "\n",
       "    .dataframe tbody tr th {\n",
       "        vertical-align: top;\n",
       "    }\n",
       "\n",
       "    .dataframe thead th {\n",
       "        text-align: right;\n",
       "    }\n",
       "</style>\n",
       "<table border=\"1\" class=\"dataframe\">\n",
       "  <thead>\n",
       "    <tr style=\"text-align: right;\">\n",
       "      <th></th>\n",
       "      <th>States</th>\n",
       "      <th>Year</th>\n",
       "      <th>Rape</th>\n",
       "      <th>Kidnap_Abduct</th>\n",
       "      <th>Dowry_Deaths</th>\n",
       "      <th>Outrage_Modesty</th>\n",
       "      <th>Insult_Modesty</th>\n",
       "      <th>Domestic_Violence</th>\n",
       "      <th>Importing_Girls</th>\n",
       "    </tr>\n",
       "  </thead>\n",
       "  <tbody>\n",
       "    <tr>\n",
       "      <th>0</th>\n",
       "      <td>andhra pradesh</td>\n",
       "      <td>2001</td>\n",
       "      <td>50</td>\n",
       "      <td>30</td>\n",
       "      <td>16</td>\n",
       "      <td>149</td>\n",
       "      <td>34</td>\n",
       "      <td>175</td>\n",
       "      <td>0</td>\n",
       "    </tr>\n",
       "    <tr>\n",
       "      <th>1</th>\n",
       "      <td>andhra pradesh</td>\n",
       "      <td>2001</td>\n",
       "      <td>23</td>\n",
       "      <td>30</td>\n",
       "      <td>7</td>\n",
       "      <td>118</td>\n",
       "      <td>24</td>\n",
       "      <td>154</td>\n",
       "      <td>0</td>\n",
       "    </tr>\n",
       "    <tr>\n",
       "      <th>2</th>\n",
       "      <td>andhra pradesh</td>\n",
       "      <td>2001</td>\n",
       "      <td>27</td>\n",
       "      <td>34</td>\n",
       "      <td>14</td>\n",
       "      <td>112</td>\n",
       "      <td>83</td>\n",
       "      <td>186</td>\n",
       "      <td>0</td>\n",
       "    </tr>\n",
       "    <tr>\n",
       "      <th>3</th>\n",
       "      <td>andhra pradesh</td>\n",
       "      <td>2001</td>\n",
       "      <td>20</td>\n",
       "      <td>20</td>\n",
       "      <td>17</td>\n",
       "      <td>126</td>\n",
       "      <td>38</td>\n",
       "      <td>57</td>\n",
       "      <td>0</td>\n",
       "    </tr>\n",
       "    <tr>\n",
       "      <th>4</th>\n",
       "      <td>andhra pradesh</td>\n",
       "      <td>2001</td>\n",
       "      <td>23</td>\n",
       "      <td>26</td>\n",
       "      <td>12</td>\n",
       "      <td>109</td>\n",
       "      <td>58</td>\n",
       "      <td>247</td>\n",
       "      <td>0</td>\n",
       "    </tr>\n",
       "  </tbody>\n",
       "</table>\n",
       "</div>"
      ],
      "text/plain": [
       "           States  Year  Rape  Kidnap_Abduct  Dowry_Deaths  Outrage_Modesty  \\\n",
       "0  andhra pradesh  2001    50             30            16              149   \n",
       "1  andhra pradesh  2001    23             30             7              118   \n",
       "2  andhra pradesh  2001    27             34            14              112   \n",
       "3  andhra pradesh  2001    20             20            17              126   \n",
       "4  andhra pradesh  2001    23             26            12              109   \n",
       "\n",
       "   Insult_Modesty  Domestic_Violence  Importing_Girls  \n",
       "0              34                175                0  \n",
       "1              24                154                0  \n",
       "2              83                186                0  \n",
       "3              38                 57                0  \n",
       "4              58                247                0  "
      ]
     },
     "execution_count": 182,
     "metadata": {},
     "output_type": "execute_result"
    }
   ],
   "source": [
    "crime.head()"
   ]
  },
  {
   "cell_type": "markdown",
   "metadata": {},
   "source": [
    "#### With this Dataset in hand, we will analyze further. "
   ]
  },
  {
   "cell_type": "markdown",
   "metadata": {},
   "source": [
    "#### Lets Calculate the overall population of women subjected to the crimes. "
   ]
  },
  {
   "cell_type": "code",
   "execution_count": 183,
   "metadata": {},
   "outputs": [],
   "source": [
    "Rape_victims=crime.Rape.sum()\n",
    "Kidnap_Ad_victims=crime.Kidnap_Abduct.sum()\n",
    "Dowry_victims=crime.Dowry_Deaths.sum()\n",
    "Outrage_Modesty_victims=crime.Outrage_Modesty.sum()\n",
    "Insult_modesty_victims=crime.Insult_Modesty.sum()\n",
    "Domestic_viol_victims=crime.Domestic_Violence.sum()\n",
    "Importing_Girls_victims=crime.Importing_Girls.sum()"
   ]
  },
  {
   "cell_type": "code",
   "execution_count": 184,
   "metadata": {},
   "outputs": [],
   "source": [
    "Total_victims = Rape_victims+Kidnap_Ad_victims+Dowry_victims+Outrage_Modesty_victims+Insult_modesty_victims+Domestic_viol_victims+Importing_Girls_victims"
   ]
  },
  {
   "cell_type": "code",
   "execution_count": 185,
   "metadata": {},
   "outputs": [
    {
     "data": {
      "text/plain": [
       "5321610"
      ]
     },
     "execution_count": 185,
     "metadata": {},
     "output_type": "execute_result"
    }
   ],
   "source": [
    "Total_victims"
   ]
  },
  {
   "cell_type": "markdown",
   "metadata": {},
   "source": [
    "#### We will see the percentage of the crimes by each category over a pie plot"
   ]
  },
  {
   "cell_type": "code",
   "execution_count": 186,
   "metadata": {},
   "outputs": [
    {
     "data": {
      "image/png": "[encoded data removed]",
      "text/plain": [
       "<Figure size 720x720 with 1 Axes>"
      ]
     },
     "metadata": {},
     "output_type": "display_data"
    }
   ],
   "source": [
    "plt.figure(figsize=(10,10))\n",
    "mylabels=['Rape','Kidnap','Dowry','Outrage Modesty','Insult Modesty','Domestic Violence','Importing Girls']\n",
    "plt.pie([Rape_victims,Kidnap_Ad_victims,Dowry_victims,Outrage_Modesty_victims,Insult_modesty_victims,\n",
    "         Domestic_viol_victims,Importing_Girls_victims],labels=mylabels,autopct='%1.1f%%')\n",
    "\n",
    "plt.legend()\n",
    "plt.show()"
   ]
  },
  {
   "cell_type": "markdown",
   "metadata": {},
   "source": [
    "#### As we see , Domestic Violence cateory tops the list to close to 42 % followed by \"Outrage Modesty\" & so on. "
   ]
  },
  {
   "cell_type": "markdown",
   "metadata": {},
   "source": [
    "#### The above data conveys a pitiful plight of close to 53 lakh women who have been victims to violence between 2001-2014 "
   ]
  },
  {
   "cell_type": "markdown",
   "metadata": {},
   "source": [
    "### Lets analyze further on this by studying crime by each category"
   ]
  },
  {
   "cell_type": "code",
   "execution_count": 187,
   "metadata": {},
   "outputs": [
    {
     "data": {
      "image/png": "[encoded data removed]",
      "text/plain": [
       "<Figure size 432x288 with 1 Axes>"
      ]
     },
     "metadata": {
      "needs_background": "light"
     },
     "output_type": "display_data"
    }
   ],
   "source": [
    "crime.groupby('Year')[['Rape']].sum().plot(kind='bar',color='orange')\n",
    "plt.grid(True)\n",
    "plt.title('Rape Cases in India between 2001 -2014')\n",
    "plt.show()\n"
   ]
  },
  {
   "cell_type": "markdown",
   "metadata": {},
   "source": [
    "#### As we see, the rape cases have been constantly incraesing over the years. "
   ]
  },
  {
   "cell_type": "code",
   "execution_count": 188,
   "metadata": {},
   "outputs": [
    {
     "data": {
      "image/png": "[encoded data removed]",
      "text/plain": [
       "<Figure size 432x288 with 1 Axes>"
      ]
     },
     "metadata": {
      "needs_background": "light"
     },
     "output_type": "display_data"
    }
   ],
   "source": [
    "crime.groupby('Year')[['Kidnap_Abduct']].sum().plot(kind='bar',color='blue')\n",
    "plt.grid(True)\n",
    "plt.title('Kidnap & AbductionCases in India between 2001 -2014')\n",
    "plt.show()\n"
   ]
  },
  {
   "cell_type": "markdown",
   "metadata": {},
   "source": [
    "#### As we see, the Kidnap & Abduction cases have been constantly incraesing over the years. "
   ]
  },
  {
   "cell_type": "code",
   "execution_count": 189,
   "metadata": {},
   "outputs": [
    {
     "data": {
      "image/png": "[encoded data removed]",
      "text/plain": [
       "<Figure size 432x288 with 1 Axes>"
      ]
     },
     "metadata": {
      "needs_background": "light"
     },
     "output_type": "display_data"
    }
   ],
   "source": [
    "crime.groupby('Year')[['Dowry_Deaths']].sum().plot(kind='bar',color='violet')\n",
    "plt.grid(True)\n",
    "plt.title('Dowry Deaths in India between 2001 -2014')\n",
    "plt.show()\n"
   ]
  },
  {
   "cell_type": "markdown",
   "metadata": {},
   "source": [
    "#### Though Dowry deaths have been high over the years, there isnt much variation in the data over the years. "
   ]
  },
  {
   "cell_type": "code",
   "execution_count": 190,
   "metadata": {},
   "outputs": [
    {
     "data": {
      "image/png": "[encoded data removed]",
      "text/plain": [
       "<Figure size 432x288 with 1 Axes>"
      ]
     },
     "metadata": {
      "needs_background": "light"
     },
     "output_type": "display_data"
    }
   ],
   "source": [
    "crime.groupby('Year')[['Outrage_Modesty']].sum().plot(kind='bar',color='green')\n",
    "plt.grid(True)\n",
    "plt.title('Outrage Modesty Violence in India between 2001 -2014')\n",
    "plt.show()\n"
   ]
  },
  {
   "cell_type": "markdown",
   "metadata": {},
   "source": [
    "#### Outrage Modesty violence - Though it was gradual till 2012, it has shot up particularly in 2013 & 2014. "
   ]
  },
  {
   "cell_type": "code",
   "execution_count": 191,
   "metadata": {},
   "outputs": [
    {
     "data": {
      "image/png": "[encoded data removed]",
      "text/plain": [
       "<Figure size 432x288 with 1 Axes>"
      ]
     },
     "metadata": {
      "needs_background": "light"
     },
     "output_type": "display_data"
    }
   ],
   "source": [
    "crime.groupby('Year')[['Insult_Modesty']].sum().plot(kind='bar',color='Magenta')\n",
    "plt.grid(True)\n",
    "plt.title('Insult Modesty Violence in India between 2001 -2014')\n",
    "plt.show()\n"
   ]
  },
  {
   "cell_type": "markdown",
   "metadata": {},
   "source": [
    "#### Insult Modesty violence - Its been quite high all these years as well. "
   ]
  },
  {
   "cell_type": "code",
   "execution_count": 192,
   "metadata": {},
   "outputs": [
    {
     "data": {
      "image/png": "[encoded data removed]",
      "text/plain": [
       "<Figure size 432x288 with 1 Axes>"
      ]
     },
     "metadata": {
      "needs_background": "light"
     },
     "output_type": "display_data"
    }
   ],
   "source": [
    "crime.groupby('Year')[['Domestic_Violence']].sum().plot(kind='bar',color='purple')\n",
    "plt.grid(True)\n",
    "plt.title('Domestic Violence in India between 2001 -2014')\n",
    "plt.show()\n"
   ]
  },
  {
   "cell_type": "markdown",
   "metadata": {},
   "source": [
    "#### Domestic Violence has increased over the years & trend seems to be on a raise "
   ]
  },
  {
   "cell_type": "code",
   "execution_count": 193,
   "metadata": {},
   "outputs": [
    {
     "data": {
      "image/png": "[encoded data removed]",
      "text/plain": [
       "<Figure size 432x288 with 1 Axes>"
      ]
     },
     "metadata": {
      "needs_background": "light"
     },
     "output_type": "display_data"
    }
   ],
   "source": [
    "crime.groupby('Year')[['Importing_Girls']].sum().plot(kind='bar',color='black')\n",
    "plt.grid(True)\n",
    "plt.title('Importing_Girls in India between 2001 -2014')\n",
    "plt.show()\n"
   ]
  },
  {
   "cell_type": "markdown",
   "metadata": {},
   "source": [
    "#### Thankfully, Importing girls is on a decline with 2014 making the least. "
   ]
  },
  {
   "cell_type": "markdown",
   "metadata": {},
   "source": [
    "#### Checking the top 10 States where the crime is high over all the years. "
   ]
  },
  {
   "cell_type": "code",
   "execution_count": 194,
   "metadata": {},
   "outputs": [
    {
     "data": {
      "image/png": "[encoded data removed]",
      "text/plain": [
       "<Figure size 432x288 with 1 Axes>"
      ]
     },
     "metadata": {
      "needs_background": "light"
     },
     "output_type": "display_data"
    }
   ],
   "source": [
    "crime.States.value_counts().head(10).plot(kind='bar',color='grey')\n",
    "plt.grid(True)\n",
    "plt.show()"
   ]
  },
  {
   "cell_type": "markdown",
   "metadata": {},
   "source": [
    "#### Lets check between 2001 - 2014, which year seems worst"
   ]
  },
  {
   "cell_type": "code",
   "execution_count": 195,
   "metadata": {},
   "outputs": [
    {
     "data": {
      "image/png": "[encoded data removed]",
      "text/plain": [
       "<Figure size 432x288 with 1 Axes>"
      ]
     },
     "metadata": {
      "needs_background": "light"
     },
     "output_type": "display_data"
    }
   ],
   "source": [
    "crime.groupby('Year')[['States']].count().plot(kind='bar',color='crimson')\n",
    "plt.grid(True)\n",
    "plt.show()"
   ]
  },
  {
   "cell_type": "markdown",
   "metadata": {},
   "source": [
    "#### Crimes have been increasing & 2014 appaers to be worst. "
   ]
  },
  {
   "cell_type": "code",
   "execution_count": 196,
   "metadata": {},
   "outputs": [],
   "source": [
    "#### We would anlayse the Top 10 Rape cases over the years 2001 - 2014"
   ]
  },
  {
   "cell_type": "code",
   "execution_count": 197,
   "metadata": {},
   "outputs": [
    {
     "data": {
      "text/html": [
       "<div>\n",
       "<style scoped>\n",
       "    .dataframe tbody tr th:only-of-type {\n",
       "        vertical-align: middle;\n",
       "    }\n",
       "\n",
       "    .dataframe tbody tr th {\n",
       "        vertical-align: top;\n",
       "    }\n",
       "\n",
       "    .dataframe thead th {\n",
       "        text-align: right;\n",
       "    }\n",
       "</style>\n",
       "<table border=\"1\" class=\"dataframe\">\n",
       "  <thead>\n",
       "    <tr style=\"text-align: right;\">\n",
       "      <th></th>\n",
       "      <th>States</th>\n",
       "      <th>Rape</th>\n",
       "      <th>Year</th>\n",
       "    </tr>\n",
       "  </thead>\n",
       "  <tbody>\n",
       "    <tr>\n",
       "      <th>10244</th>\n",
       "      <td>madhya pradesh</td>\n",
       "      <td>5076</td>\n",
       "      <td>2014</td>\n",
       "    </tr>\n",
       "    <tr>\n",
       "      <th>9426</th>\n",
       "      <td>madhya pradesh</td>\n",
       "      <td>4335</td>\n",
       "      <td>2013</td>\n",
       "    </tr>\n",
       "    <tr>\n",
       "      <th>10445</th>\n",
       "      <td>rajasthan</td>\n",
       "      <td>3759</td>\n",
       "      <td>2014</td>\n",
       "    </tr>\n",
       "    <tr>\n",
       "      <th>10595</th>\n",
       "      <td>uttar pradesh</td>\n",
       "      <td>3467</td>\n",
       "      <td>2014</td>\n",
       "    </tr>\n",
       "    <tr>\n",
       "      <th>10291</th>\n",
       "      <td>maharashtra</td>\n",
       "      <td>3438</td>\n",
       "      <td>2014</td>\n",
       "    </tr>\n",
       "    <tr>\n",
       "      <th>8611</th>\n",
       "      <td>madhya pradesh</td>\n",
       "      <td>3425</td>\n",
       "      <td>2012</td>\n",
       "    </tr>\n",
       "    <tr>\n",
       "      <th>7810</th>\n",
       "      <td>madhya pradesh</td>\n",
       "      <td>3406</td>\n",
       "      <td>2011</td>\n",
       "    </tr>\n",
       "    <tr>\n",
       "      <th>9628</th>\n",
       "      <td>rajasthan</td>\n",
       "      <td>3285</td>\n",
       "      <td>2013</td>\n",
       "    </tr>\n",
       "    <tr>\n",
       "      <th>7025</th>\n",
       "      <td>madhya pradesh</td>\n",
       "      <td>3135</td>\n",
       "      <td>2010</td>\n",
       "    </tr>\n",
       "    <tr>\n",
       "      <th>9472</th>\n",
       "      <td>maharashtra</td>\n",
       "      <td>3063</td>\n",
       "      <td>2013</td>\n",
       "    </tr>\n",
       "  </tbody>\n",
       "</table>\n",
       "</div>"
      ],
      "text/plain": [
       "               States  Rape  Year\n",
       "10244  madhya pradesh  5076  2014\n",
       "9426   madhya pradesh  4335  2013\n",
       "10445       rajasthan  3759  2014\n",
       "10595   uttar pradesh  3467  2014\n",
       "10291     maharashtra  3438  2014\n",
       "8611   madhya pradesh  3425  2012\n",
       "7810   madhya pradesh  3406  2011\n",
       "9628        rajasthan  3285  2013\n",
       "7025   madhya pradesh  3135  2010\n",
       "9472      maharashtra  3063  2013"
      ]
     },
     "execution_count": 197,
     "metadata": {},
     "output_type": "execute_result"
    }
   ],
   "source": [
    "Rape_max=crime.sort_values('Rape',ascending=False)[['States','Rape','Year']].head(10)\n",
    "Rape_max\n"
   ]
  },
  {
   "cell_type": "markdown",
   "metadata": {},
   "source": [
    "#### As we see, Madhya Pradesh tops the list of Rape cases in the year 2014 & 2013 as well. "
   ]
  },
  {
   "cell_type": "code",
   "execution_count": 198,
   "metadata": {},
   "outputs": [],
   "source": [
    "#### Lets Analyze the deaths related to Dowry( Top 10) over the years"
   ]
  },
  {
   "cell_type": "code",
   "execution_count": 199,
   "metadata": {},
   "outputs": [
    {
     "data": {
      "text/html": [
       "<div>\n",
       "<style scoped>\n",
       "    .dataframe tbody tr th:only-of-type {\n",
       "        vertical-align: middle;\n",
       "    }\n",
       "\n",
       "    .dataframe tbody tr th {\n",
       "        vertical-align: top;\n",
       "    }\n",
       "\n",
       "    .dataframe thead th {\n",
       "        text-align: right;\n",
       "    }\n",
       "</style>\n",
       "<table border=\"1\" class=\"dataframe\">\n",
       "  <thead>\n",
       "    <tr style=\"text-align: right;\">\n",
       "      <th></th>\n",
       "      <th>States</th>\n",
       "      <th>Year</th>\n",
       "      <th>Dowry_Deaths</th>\n",
       "    </tr>\n",
       "  </thead>\n",
       "  <tbody>\n",
       "    <tr>\n",
       "      <th>10595</th>\n",
       "      <td>uttar pradesh</td>\n",
       "      <td>2014</td>\n",
       "      <td>2469</td>\n",
       "    </tr>\n",
       "    <tr>\n",
       "      <th>9760</th>\n",
       "      <td>uttar pradesh</td>\n",
       "      <td>2013</td>\n",
       "      <td>2335</td>\n",
       "    </tr>\n",
       "    <tr>\n",
       "      <th>8132</th>\n",
       "      <td>uttar pradesh</td>\n",
       "      <td>2011</td>\n",
       "      <td>2322</td>\n",
       "    </tr>\n",
       "    <tr>\n",
       "      <th>8938</th>\n",
       "      <td>uttar pradesh</td>\n",
       "      <td>2012</td>\n",
       "      <td>2244</td>\n",
       "    </tr>\n",
       "    <tr>\n",
       "      <th>5796</th>\n",
       "      <td>uttar pradesh</td>\n",
       "      <td>2008</td>\n",
       "      <td>2237</td>\n",
       "    </tr>\n",
       "    <tr>\n",
       "      <th>6563</th>\n",
       "      <td>uttar pradesh</td>\n",
       "      <td>2009</td>\n",
       "      <td>2232</td>\n",
       "    </tr>\n",
       "    <tr>\n",
       "      <th>7342</th>\n",
       "      <td>uttar pradesh</td>\n",
       "      <td>2010</td>\n",
       "      <td>2217</td>\n",
       "    </tr>\n",
       "    <tr>\n",
       "      <th>650</th>\n",
       "      <td>uttar pradesh</td>\n",
       "      <td>2001</td>\n",
       "      <td>2211</td>\n",
       "    </tr>\n",
       "    <tr>\n",
       "      <th>5040</th>\n",
       "      <td>uttar pradesh</td>\n",
       "      <td>2007</td>\n",
       "      <td>2076</td>\n",
       "    </tr>\n",
       "    <tr>\n",
       "      <th>1366</th>\n",
       "      <td>uttar pradesh</td>\n",
       "      <td>2002</td>\n",
       "      <td>1893</td>\n",
       "    </tr>\n",
       "  </tbody>\n",
       "</table>\n",
       "</div>"
      ],
      "text/plain": [
       "              States  Year  Dowry_Deaths\n",
       "10595  uttar pradesh  2014          2469\n",
       "9760   uttar pradesh  2013          2335\n",
       "8132   uttar pradesh  2011          2322\n",
       "8938   uttar pradesh  2012          2244\n",
       "5796   uttar pradesh  2008          2237\n",
       "6563   uttar pradesh  2009          2232\n",
       "7342   uttar pradesh  2010          2217\n",
       "650    uttar pradesh  2001          2211\n",
       "5040   uttar pradesh  2007          2076\n",
       "1366   uttar pradesh  2002          1893"
      ]
     },
     "execution_count": 199,
     "metadata": {},
     "output_type": "execute_result"
    }
   ],
   "source": [
    "Dowry_max=crime.sort_values('Dowry_Deaths',ascending=False)[['States','Year','Dowry_Deaths']].head(10)\n",
    "Dowry_max"
   ]
  },
  {
   "cell_type": "markdown",
   "metadata": {},
   "source": [
    "#### UttarPradesh has highest dowry deaths for close to a decade, which is quite alarming. "
   ]
  },
  {
   "cell_type": "markdown",
   "metadata": {},
   "source": [
    "#### Lets Analyse the top 10 Domestic Violence over the Years. "
   ]
  },
  {
   "cell_type": "code",
   "execution_count": 200,
   "metadata": {},
   "outputs": [
    {
     "data": {
      "text/html": [
       "<div>\n",
       "<style scoped>\n",
       "    .dataframe tbody tr th:only-of-type {\n",
       "        vertical-align: middle;\n",
       "    }\n",
       "\n",
       "    .dataframe tbody tr th {\n",
       "        vertical-align: top;\n",
       "    }\n",
       "\n",
       "    .dataframe thead th {\n",
       "        text-align: right;\n",
       "    }\n",
       "</style>\n",
       "<table border=\"1\" class=\"dataframe\">\n",
       "  <thead>\n",
       "    <tr style=\"text-align: right;\">\n",
       "      <th></th>\n",
       "      <th>States</th>\n",
       "      <th>Year</th>\n",
       "      <th>Domestic_Violence</th>\n",
       "    </tr>\n",
       "  </thead>\n",
       "  <tbody>\n",
       "    <tr>\n",
       "      <th>10640</th>\n",
       "      <td>west bengal</td>\n",
       "      <td>2014</td>\n",
       "      <td>23278</td>\n",
       "    </tr>\n",
       "    <tr>\n",
       "      <th>8982</th>\n",
       "      <td>west bengal</td>\n",
       "      <td>2012</td>\n",
       "      <td>19865</td>\n",
       "    </tr>\n",
       "    <tr>\n",
       "      <th>8172</th>\n",
       "      <td>west bengal</td>\n",
       "      <td>2011</td>\n",
       "      <td>19772</td>\n",
       "    </tr>\n",
       "    <tr>\n",
       "      <th>9804</th>\n",
       "      <td>west bengal</td>\n",
       "      <td>2013</td>\n",
       "      <td>18116</td>\n",
       "    </tr>\n",
       "    <tr>\n",
       "      <th>7381</th>\n",
       "      <td>west bengal</td>\n",
       "      <td>2010</td>\n",
       "      <td>17796</td>\n",
       "    </tr>\n",
       "    <tr>\n",
       "      <th>6602</th>\n",
       "      <td>west bengal</td>\n",
       "      <td>2009</td>\n",
       "      <td>16112</td>\n",
       "    </tr>\n",
       "    <tr>\n",
       "      <th>10445</th>\n",
       "      <td>rajasthan</td>\n",
       "      <td>2014</td>\n",
       "      <td>15905</td>\n",
       "    </tr>\n",
       "    <tr>\n",
       "      <th>9628</th>\n",
       "      <td>rajasthan</td>\n",
       "      <td>2013</td>\n",
       "      <td>15094</td>\n",
       "    </tr>\n",
       "    <tr>\n",
       "      <th>9050</th>\n",
       "      <td>andhra pradesh</td>\n",
       "      <td>2013</td>\n",
       "      <td>15084</td>\n",
       "    </tr>\n",
       "    <tr>\n",
       "      <th>5835</th>\n",
       "      <td>west bengal</td>\n",
       "      <td>2008</td>\n",
       "      <td>13663</td>\n",
       "    </tr>\n",
       "  </tbody>\n",
       "</table>\n",
       "</div>"
      ],
      "text/plain": [
       "               States  Year  Domestic_Violence\n",
       "10640     west bengal  2014              23278\n",
       "8982      west bengal  2012              19865\n",
       "8172      west bengal  2011              19772\n",
       "9804      west bengal  2013              18116\n",
       "7381      west bengal  2010              17796\n",
       "6602      west bengal  2009              16112\n",
       "10445       rajasthan  2014              15905\n",
       "9628        rajasthan  2013              15094\n",
       "9050   andhra pradesh  2013              15084\n",
       "5835      west bengal  2008              13663"
      ]
     },
     "execution_count": 200,
     "metadata": {},
     "output_type": "execute_result"
    }
   ],
   "source": [
    "Domestic_Violence_max=crime.sort_values('Domestic_Violence',ascending=False)[['States','Year','Domestic_Violence']].head(10)\n",
    "Domestic_Violence_max"
   ]
  },
  {
   "cell_type": "markdown",
   "metadata": {},
   "source": [
    "#### West Bengal tops the list in the Domestic Violence for the past 6 years. "
   ]
  },
  {
   "cell_type": "markdown",
   "metadata": {},
   "source": [
    "#### Lets analyze the highest 10 \"Importing of Girls\" cases during the years 2001-2014"
   ]
  },
  {
   "cell_type": "code",
   "execution_count": 201,
   "metadata": {},
   "outputs": [
    {
     "data": {
      "text/html": [
       "<div>\n",
       "<style scoped>\n",
       "    .dataframe tbody tr th:only-of-type {\n",
       "        vertical-align: middle;\n",
       "    }\n",
       "\n",
       "    .dataframe tbody tr th {\n",
       "        vertical-align: top;\n",
       "    }\n",
       "\n",
       "    .dataframe thead th {\n",
       "        text-align: right;\n",
       "    }\n",
       "</style>\n",
       "<table border=\"1\" class=\"dataframe\">\n",
       "  <thead>\n",
       "    <tr style=\"text-align: right;\">\n",
       "      <th></th>\n",
       "      <th>States</th>\n",
       "      <th>Year</th>\n",
       "      <th>Importing_Girls</th>\n",
       "    </tr>\n",
       "  </thead>\n",
       "  <tbody>\n",
       "    <tr>\n",
       "      <th>115</th>\n",
       "      <td>bihar</td>\n",
       "      <td>2001</td>\n",
       "      <td>83</td>\n",
       "    </tr>\n",
       "    <tr>\n",
       "      <th>3013</th>\n",
       "      <td>bihar</td>\n",
       "      <td>2005</td>\n",
       "      <td>74</td>\n",
       "    </tr>\n",
       "    <tr>\n",
       "      <th>3597</th>\n",
       "      <td>west bengal</td>\n",
       "      <td>2005</td>\n",
       "      <td>61</td>\n",
       "    </tr>\n",
       "    <tr>\n",
       "      <th>3590</th>\n",
       "      <td>west bengal</td>\n",
       "      <td>2005</td>\n",
       "      <td>60</td>\n",
       "    </tr>\n",
       "    <tr>\n",
       "      <th>4486</th>\n",
       "      <td>bihar</td>\n",
       "      <td>2007</td>\n",
       "      <td>56</td>\n",
       "    </tr>\n",
       "    <tr>\n",
       "      <th>3005</th>\n",
       "      <td>bihar</td>\n",
       "      <td>2005</td>\n",
       "      <td>48</td>\n",
       "    </tr>\n",
       "    <tr>\n",
       "      <th>7810</th>\n",
       "      <td>madhya pradesh</td>\n",
       "      <td>2011</td>\n",
       "      <td>45</td>\n",
       "    </tr>\n",
       "    <tr>\n",
       "      <th>3746</th>\n",
       "      <td>bihar</td>\n",
       "      <td>2006</td>\n",
       "      <td>42</td>\n",
       "    </tr>\n",
       "    <tr>\n",
       "      <th>102</th>\n",
       "      <td>bihar</td>\n",
       "      <td>2001</td>\n",
       "      <td>39</td>\n",
       "    </tr>\n",
       "    <tr>\n",
       "      <th>5378</th>\n",
       "      <td>jharkhand</td>\n",
       "      <td>2008</td>\n",
       "      <td>39</td>\n",
       "    </tr>\n",
       "  </tbody>\n",
       "</table>\n",
       "</div>"
      ],
      "text/plain": [
       "              States  Year  Importing_Girls\n",
       "115            bihar  2001               83\n",
       "3013           bihar  2005               74\n",
       "3597     west bengal  2005               61\n",
       "3590     west bengal  2005               60\n",
       "4486           bihar  2007               56\n",
       "3005           bihar  2005               48\n",
       "7810  madhya pradesh  2011               45\n",
       "3746           bihar  2006               42\n",
       "102            bihar  2001               39\n",
       "5378       jharkhand  2008               39"
      ]
     },
     "execution_count": 201,
     "metadata": {},
     "output_type": "execute_result"
    }
   ],
   "source": [
    "Importing_Girls_max=crime.sort_values('Importing_Girls',ascending=False)[['States','Year','Importing_Girls']].head(10)\n",
    "Importing_Girls_max"
   ]
  },
  {
   "cell_type": "markdown",
   "metadata": {},
   "source": [
    "##### Bihar tops the list in the \"Importing Girls \" violence currently & also its been in the list consistently over the years"
   ]
  },
  {
   "cell_type": "code",
   "execution_count": null,
   "metadata": {},
   "outputs": [],
   "source": []
  },
  {
   "cell_type": "markdown",
   "metadata": {},
   "source": [
    "#### Analyzing the total number of cases between 2001-2014 under each category -state wise."
   ]
  },
  {
   "cell_type": "code",
   "execution_count": 202,
   "metadata": {},
   "outputs": [],
   "source": [
    "State_Total=crime.groupby(['States'])[['Rape','Kidnap_Abduct','Dowry_Deaths','Outrage_Modesty','Insult_Modesty','Domestic_Violence','Importing_Girls']].sum()"
   ]
  },
  {
   "cell_type": "code",
   "execution_count": 203,
   "metadata": {},
   "outputs": [
    {
     "data": {
      "text/html": [
       "<div>\n",
       "<style scoped>\n",
       "    .dataframe tbody tr th:only-of-type {\n",
       "        vertical-align: middle;\n",
       "    }\n",
       "\n",
       "    .dataframe tbody tr th {\n",
       "        vertical-align: top;\n",
       "    }\n",
       "\n",
       "    .dataframe thead th {\n",
       "        text-align: right;\n",
       "    }\n",
       "</style>\n",
       "<table border=\"1\" class=\"dataframe\">\n",
       "  <thead>\n",
       "    <tr style=\"text-align: right;\">\n",
       "      <th></th>\n",
       "      <th>Rape</th>\n",
       "      <th>Kidnap_Abduct</th>\n",
       "      <th>Dowry_Deaths</th>\n",
       "      <th>Outrage_Modesty</th>\n",
       "      <th>Insult_Modesty</th>\n",
       "      <th>Domestic_Violence</th>\n",
       "      <th>Importing_Girls</th>\n",
       "    </tr>\n",
       "    <tr>\n",
       "      <th>States</th>\n",
       "      <th></th>\n",
       "      <th></th>\n",
       "      <th></th>\n",
       "      <th></th>\n",
       "      <th></th>\n",
       "      <th></th>\n",
       "      <th></th>\n",
       "    </tr>\n",
       "  </thead>\n",
       "  <tbody>\n",
       "    <tr>\n",
       "      <th>a&amp;n islands</th>\n",
       "      <td>336</td>\n",
       "      <td>212</td>\n",
       "      <td>20</td>\n",
       "      <td>600</td>\n",
       "      <td>112</td>\n",
       "      <td>288</td>\n",
       "      <td>0</td>\n",
       "    </tr>\n",
       "    <tr>\n",
       "      <th>andhra pradesh</th>\n",
       "      <td>32150</td>\n",
       "      <td>34504</td>\n",
       "      <td>13844</td>\n",
       "      <td>126952</td>\n",
       "      <td>86964</td>\n",
       "      <td>280906</td>\n",
       "      <td>34</td>\n",
       "    </tr>\n",
       "    <tr>\n",
       "      <th>arunachal pradesh</th>\n",
       "      <td>1316</td>\n",
       "      <td>1470</td>\n",
       "      <td>6</td>\n",
       "      <td>1996</td>\n",
       "      <td>48</td>\n",
       "      <td>476</td>\n",
       "      <td>0</td>\n",
       "    </tr>\n",
       "    <tr>\n",
       "      <th>assam</th>\n",
       "      <td>40190</td>\n",
       "      <td>62074</td>\n",
       "      <td>3268</td>\n",
       "      <td>38256</td>\n",
       "      <td>254</td>\n",
       "      <td>115300</td>\n",
       "      <td>22</td>\n",
       "    </tr>\n",
       "    <tr>\n",
       "      <th>bihar</th>\n",
       "      <td>30758</td>\n",
       "      <td>57086</td>\n",
       "      <td>32206</td>\n",
       "      <td>16958</td>\n",
       "      <td>694</td>\n",
       "      <td>69770</td>\n",
       "      <td>904</td>\n",
       "    </tr>\n",
       "    <tr>\n",
       "      <th>chandigarh</th>\n",
       "      <td>770</td>\n",
       "      <td>1682</td>\n",
       "      <td>90</td>\n",
       "      <td>1088</td>\n",
       "      <td>342</td>\n",
       "      <td>2080</td>\n",
       "      <td>0</td>\n",
       "    </tr>\n",
       "    <tr>\n",
       "      <th>chhattisgarh</th>\n",
       "      <td>29308</td>\n",
       "      <td>11808</td>\n",
       "      <td>2758</td>\n",
       "      <td>47096</td>\n",
       "      <td>3968</td>\n",
       "      <td>23436</td>\n",
       "      <td>12</td>\n",
       "    </tr>\n",
       "    <tr>\n",
       "      <th>d&amp;n haveli</th>\n",
       "      <td>132</td>\n",
       "      <td>224</td>\n",
       "      <td>2</td>\n",
       "      <td>106</td>\n",
       "      <td>12</td>\n",
       "      <td>90</td>\n",
       "      <td>0</td>\n",
       "    </tr>\n",
       "    <tr>\n",
       "      <th>daman &amp; diu</th>\n",
       "      <td>60</td>\n",
       "      <td>44</td>\n",
       "      <td>6</td>\n",
       "      <td>40</td>\n",
       "      <td>4</td>\n",
       "      <td>76</td>\n",
       "      <td>0</td>\n",
       "    </tr>\n",
       "    <tr>\n",
       "      <th>delhi</th>\n",
       "      <td>20312</td>\n",
       "      <td>46586</td>\n",
       "      <td>3758</td>\n",
       "      <td>30742</td>\n",
       "      <td>7928</td>\n",
       "      <td>42834</td>\n",
       "      <td>2</td>\n",
       "    </tr>\n",
       "    <tr>\n",
       "      <th>goa</th>\n",
       "      <td>1062</td>\n",
       "      <td>640</td>\n",
       "      <td>38</td>\n",
       "      <td>1384</td>\n",
       "      <td>468</td>\n",
       "      <td>532</td>\n",
       "      <td>0</td>\n",
       "    </tr>\n",
       "    <tr>\n",
       "      <th>gujarat</th>\n",
       "      <td>11644</td>\n",
       "      <td>34670</td>\n",
       "      <td>1108</td>\n",
       "      <td>23186</td>\n",
       "      <td>3230</td>\n",
       "      <td>146468</td>\n",
       "      <td>0</td>\n",
       "    </tr>\n",
       "    <tr>\n",
       "      <th>haryana</th>\n",
       "      <td>17110</td>\n",
       "      <td>20016</td>\n",
       "      <td>7372</td>\n",
       "      <td>17142</td>\n",
       "      <td>17866</td>\n",
       "      <td>68414</td>\n",
       "      <td>4</td>\n",
       "    </tr>\n",
       "    <tr>\n",
       "      <th>himachal pradesh</th>\n",
       "      <td>4674</td>\n",
       "      <td>4116</td>\n",
       "      <td>112</td>\n",
       "      <td>9256</td>\n",
       "      <td>1220</td>\n",
       "      <td>7796</td>\n",
       "      <td>0</td>\n",
       "    </tr>\n",
       "    <tr>\n",
       "      <th>jammu &amp; kashmir</th>\n",
       "      <td>7038</td>\n",
       "      <td>21164</td>\n",
       "      <td>294</td>\n",
       "      <td>28638</td>\n",
       "      <td>9168</td>\n",
       "      <td>5390</td>\n",
       "      <td>0</td>\n",
       "    </tr>\n",
       "    <tr>\n",
       "      <th>jharkhand</th>\n",
       "      <td>22826</td>\n",
       "      <td>14186</td>\n",
       "      <td>7896</td>\n",
       "      <td>9898</td>\n",
       "      <td>566</td>\n",
       "      <td>23910</td>\n",
       "      <td>298</td>\n",
       "    </tr>\n",
       "    <tr>\n",
       "      <th>karnataka</th>\n",
       "      <td>15056</td>\n",
       "      <td>16262</td>\n",
       "      <td>7016</td>\n",
       "      <td>65750</td>\n",
       "      <td>2276</td>\n",
       "      <td>72706</td>\n",
       "      <td>94</td>\n",
       "    </tr>\n",
       "    <tr>\n",
       "      <th>kerala</th>\n",
       "      <td>20030</td>\n",
       "      <td>4452</td>\n",
       "      <td>700</td>\n",
       "      <td>80438</td>\n",
       "      <td>7930</td>\n",
       "      <td>111626</td>\n",
       "      <td>0</td>\n",
       "    </tr>\n",
       "    <tr>\n",
       "      <th>lakshadweep</th>\n",
       "      <td>20</td>\n",
       "      <td>2</td>\n",
       "      <td>0</td>\n",
       "      <td>14</td>\n",
       "      <td>4</td>\n",
       "      <td>14</td>\n",
       "      <td>0</td>\n",
       "    </tr>\n",
       "    <tr>\n",
       "      <th>madhya pradesh</th>\n",
       "      <td>90996</td>\n",
       "      <td>35608</td>\n",
       "      <td>21090</td>\n",
       "      <td>195478</td>\n",
       "      <td>20964</td>\n",
       "      <td>102816</td>\n",
       "      <td>134</td>\n",
       "    </tr>\n",
       "    <tr>\n",
       "      <th>maharashtra</th>\n",
       "      <td>48974</td>\n",
       "      <td>30368</td>\n",
       "      <td>9696</td>\n",
       "      <td>114704</td>\n",
       "      <td>32634</td>\n",
       "      <td>193202</td>\n",
       "      <td>6</td>\n",
       "    </tr>\n",
       "    <tr>\n",
       "      <th>manipur</th>\n",
       "      <td>1068</td>\n",
       "      <td>2606</td>\n",
       "      <td>6</td>\n",
       "      <td>1322</td>\n",
       "      <td>6</td>\n",
       "      <td>578</td>\n",
       "      <td>0</td>\n",
       "    </tr>\n",
       "    <tr>\n",
       "      <th>meghalaya</th>\n",
       "      <td>2642</td>\n",
       "      <td>670</td>\n",
       "      <td>36</td>\n",
       "      <td>1470</td>\n",
       "      <td>124</td>\n",
       "      <td>460</td>\n",
       "      <td>8</td>\n",
       "    </tr>\n",
       "    <tr>\n",
       "      <th>mizoram</th>\n",
       "      <td>2070</td>\n",
       "      <td>30</td>\n",
       "      <td>8</td>\n",
       "      <td>1988</td>\n",
       "      <td>70</td>\n",
       "      <td>134</td>\n",
       "      <td>6</td>\n",
       "    </tr>\n",
       "    <tr>\n",
       "      <th>nagaland</th>\n",
       "      <td>562</td>\n",
       "      <td>190</td>\n",
       "      <td>2</td>\n",
       "      <td>260</td>\n",
       "      <td>24</td>\n",
       "      <td>32</td>\n",
       "      <td>2</td>\n",
       "    </tr>\n",
       "    <tr>\n",
       "      <th>odisha</th>\n",
       "      <td>30480</td>\n",
       "      <td>25588</td>\n",
       "      <td>10782</td>\n",
       "      <td>80214</td>\n",
       "      <td>7488</td>\n",
       "      <td>49206</td>\n",
       "      <td>36</td>\n",
       "    </tr>\n",
       "    <tr>\n",
       "      <th>puducherry</th>\n",
       "      <td>208</td>\n",
       "      <td>306</td>\n",
       "      <td>56</td>\n",
       "      <td>1314</td>\n",
       "      <td>600</td>\n",
       "      <td>234</td>\n",
       "      <td>0</td>\n",
       "    </tr>\n",
       "    <tr>\n",
       "      <th>punjab</th>\n",
       "      <td>14656</td>\n",
       "      <td>15096</td>\n",
       "      <td>3524</td>\n",
       "      <td>12410</td>\n",
       "      <td>1728</td>\n",
       "      <td>30840</td>\n",
       "      <td>4</td>\n",
       "    </tr>\n",
       "    <tr>\n",
       "      <th>rajasthan</th>\n",
       "      <td>45684</td>\n",
       "      <td>66278</td>\n",
       "      <td>11854</td>\n",
       "      <td>83362</td>\n",
       "      <td>794</td>\n",
       "      <td>262200</td>\n",
       "      <td>14</td>\n",
       "    </tr>\n",
       "    <tr>\n",
       "      <th>sikkim</th>\n",
       "      <td>570</td>\n",
       "      <td>180</td>\n",
       "      <td>4</td>\n",
       "      <td>586</td>\n",
       "      <td>34</td>\n",
       "      <td>108</td>\n",
       "      <td>0</td>\n",
       "    </tr>\n",
       "    <tr>\n",
       "      <th>tamil nadu</th>\n",
       "      <td>16660</td>\n",
       "      <td>30908</td>\n",
       "      <td>5060</td>\n",
       "      <td>43404</td>\n",
       "      <td>21170</td>\n",
       "      <td>45524</td>\n",
       "      <td>30</td>\n",
       "    </tr>\n",
       "    <tr>\n",
       "      <th>telangana</th>\n",
       "      <td>1958</td>\n",
       "      <td>1422</td>\n",
       "      <td>578</td>\n",
       "      <td>6376</td>\n",
       "      <td>2284</td>\n",
       "      <td>12738</td>\n",
       "      <td>0</td>\n",
       "    </tr>\n",
       "    <tr>\n",
       "      <th>tripura</th>\n",
       "      <td>5060</td>\n",
       "      <td>2202</td>\n",
       "      <td>752</td>\n",
       "      <td>7344</td>\n",
       "      <td>114</td>\n",
       "      <td>16086</td>\n",
       "      <td>0</td>\n",
       "    </tr>\n",
       "    <tr>\n",
       "      <th>uttar pradesh</th>\n",
       "      <td>51150</td>\n",
       "      <td>135906</td>\n",
       "      <td>57256</td>\n",
       "      <td>91212</td>\n",
       "      <td>53130</td>\n",
       "      <td>193738</td>\n",
       "      <td>6</td>\n",
       "    </tr>\n",
       "    <tr>\n",
       "      <th>uttarakhand</th>\n",
       "      <td>3752</td>\n",
       "      <td>6484</td>\n",
       "      <td>1974</td>\n",
       "      <td>4366</td>\n",
       "      <td>3190</td>\n",
       "      <td>9756</td>\n",
       "      <td>2</td>\n",
       "    </tr>\n",
       "    <tr>\n",
       "      <th>west bengal</th>\n",
       "      <td>47876</td>\n",
       "      <td>61158</td>\n",
       "      <td>12308</td>\n",
       "      <td>66908</td>\n",
       "      <td>5348</td>\n",
       "      <td>344124</td>\n",
       "      <td>254</td>\n",
       "    </tr>\n",
       "  </tbody>\n",
       "</table>\n",
       "</div>"
      ],
      "text/plain": [
       "                    Rape  Kidnap_Abduct  Dowry_Deaths  Outrage_Modesty  \\\n",
       "States                                                                   \n",
       "a&n islands          336            212            20              600   \n",
       "andhra pradesh     32150          34504         13844           126952   \n",
       "arunachal pradesh   1316           1470             6             1996   \n",
       "assam              40190          62074          3268            38256   \n",
       "bihar              30758          57086         32206            16958   \n",
       "chandigarh           770           1682            90             1088   \n",
       "chhattisgarh       29308          11808          2758            47096   \n",
       "d&n haveli           132            224             2              106   \n",
       "daman & diu           60             44             6               40   \n",
       "delhi              20312          46586          3758            30742   \n",
       "goa                 1062            640            38             1384   \n",
       "gujarat            11644          34670          1108            23186   \n",
       "haryana            17110          20016          7372            17142   \n",
       "himachal pradesh    4674           4116           112             9256   \n",
       "jammu & kashmir     7038          21164           294            28638   \n",
       "jharkhand          22826          14186          7896             9898   \n",
       "karnataka          15056          16262          7016            65750   \n",
       "kerala             20030           4452           700            80438   \n",
       "lakshadweep           20              2             0               14   \n",
       "madhya pradesh     90996          35608         21090           195478   \n",
       "maharashtra        48974          30368          9696           114704   \n",
       "manipur             1068           2606             6             1322   \n",
       "meghalaya           2642            670            36             1470   \n",
       "mizoram             2070             30             8             1988   \n",
       "nagaland             562            190             2              260   \n",
       "odisha             30480          25588         10782            80214   \n",
       "puducherry           208            306            56             1314   \n",
       "punjab             14656          15096          3524            12410   \n",
       "rajasthan          45684          66278         11854            83362   \n",
       "sikkim               570            180             4              586   \n",
       "tamil nadu         16660          30908          5060            43404   \n",
       "telangana           1958           1422           578             6376   \n",
       "tripura             5060           2202           752             7344   \n",
       "uttar pradesh      51150         135906         57256            91212   \n",
       "uttarakhand         3752           6484          1974             4366   \n",
       "west bengal        47876          61158         12308            66908   \n",
       "\n",
       "                   Insult_Modesty  Domestic_Violence  Importing_Girls  \n",
       "States                                                                 \n",
       "a&n islands                   112                288                0  \n",
       "andhra pradesh              86964             280906               34  \n",
       "arunachal pradesh              48                476                0  \n",
       "assam                         254             115300               22  \n",
       "bihar                         694              69770              904  \n",
       "chandigarh                    342               2080                0  \n",
       "chhattisgarh                 3968              23436               12  \n",
       "d&n haveli                     12                 90                0  \n",
       "daman & diu                     4                 76                0  \n",
       "delhi                        7928              42834                2  \n",
       "goa                           468                532                0  \n",
       "gujarat                      3230             146468                0  \n",
       "haryana                     17866              68414                4  \n",
       "himachal pradesh             1220               7796                0  \n",
       "jammu & kashmir              9168               5390                0  \n",
       "jharkhand                     566              23910              298  \n",
       "karnataka                    2276              72706               94  \n",
       "kerala                       7930             111626                0  \n",
       "lakshadweep                     4                 14                0  \n",
       "madhya pradesh              20964             102816              134  \n",
       "maharashtra                 32634             193202                6  \n",
       "manipur                         6                578                0  \n",
       "meghalaya                     124                460                8  \n",
       "mizoram                        70                134                6  \n",
       "nagaland                       24                 32                2  \n",
       "odisha                       7488              49206               36  \n",
       "puducherry                    600                234                0  \n",
       "punjab                       1728              30840                4  \n",
       "rajasthan                     794             262200               14  \n",
       "sikkim                         34                108                0  \n",
       "tamil nadu                  21170              45524               30  \n",
       "telangana                    2284              12738                0  \n",
       "tripura                       114              16086                0  \n",
       "uttar pradesh               53130             193738                6  \n",
       "uttarakhand                  3190               9756                2  \n",
       "west bengal                  5348             344124              254  "
      ]
     },
     "execution_count": 203,
     "metadata": {},
     "output_type": "execute_result"
    }
   ],
   "source": [
    "State_Total"
   ]
  },
  {
   "cell_type": "markdown",
   "metadata": {},
   "source": [
    "### With this DF, lets analyze the top 5 states on violence for each category. "
   ]
  },
  {
   "cell_type": "code",
   "execution_count": 204,
   "metadata": {},
   "outputs": [
    {
     "data": {
      "text/html": [
       "<div>\n",
       "<style scoped>\n",
       "    .dataframe tbody tr th:only-of-type {\n",
       "        vertical-align: middle;\n",
       "    }\n",
       "\n",
       "    .dataframe tbody tr th {\n",
       "        vertical-align: top;\n",
       "    }\n",
       "\n",
       "    .dataframe thead th {\n",
       "        text-align: right;\n",
       "    }\n",
       "</style>\n",
       "<table border=\"1\" class=\"dataframe\">\n",
       "  <thead>\n",
       "    <tr style=\"text-align: right;\">\n",
       "      <th></th>\n",
       "      <th>Rape</th>\n",
       "    </tr>\n",
       "    <tr>\n",
       "      <th>States</th>\n",
       "      <th></th>\n",
       "    </tr>\n",
       "  </thead>\n",
       "  <tbody>\n",
       "    <tr>\n",
       "      <th>madhya pradesh</th>\n",
       "      <td>90996</td>\n",
       "    </tr>\n",
       "    <tr>\n",
       "      <th>uttar pradesh</th>\n",
       "      <td>51150</td>\n",
       "    </tr>\n",
       "    <tr>\n",
       "      <th>maharashtra</th>\n",
       "      <td>48974</td>\n",
       "    </tr>\n",
       "    <tr>\n",
       "      <th>west bengal</th>\n",
       "      <td>47876</td>\n",
       "    </tr>\n",
       "    <tr>\n",
       "      <th>rajasthan</th>\n",
       "      <td>45684</td>\n",
       "    </tr>\n",
       "  </tbody>\n",
       "</table>\n",
       "</div>"
      ],
      "text/plain": [
       "                 Rape\n",
       "States               \n",
       "madhya pradesh  90996\n",
       "uttar pradesh   51150\n",
       "maharashtra     48974\n",
       "west bengal     47876\n",
       "rajasthan       45684"
      ]
     },
     "execution_count": 204,
     "metadata": {},
     "output_type": "execute_result"
    }
   ],
   "source": [
    "State_Total.sort_values('Rape',ascending=False)[['Rape']].head()"
   ]
  },
  {
   "cell_type": "markdown",
   "metadata": {},
   "source": [
    "#### Madhya Pradesh leads the list with close to 91K rape cases between 2001 - 2014"
   ]
  },
  {
   "cell_type": "code",
   "execution_count": 205,
   "metadata": {},
   "outputs": [
    {
     "data": {
      "text/html": [
       "<div>\n",
       "<style scoped>\n",
       "    .dataframe tbody tr th:only-of-type {\n",
       "        vertical-align: middle;\n",
       "    }\n",
       "\n",
       "    .dataframe tbody tr th {\n",
       "        vertical-align: top;\n",
       "    }\n",
       "\n",
       "    .dataframe thead th {\n",
       "        text-align: right;\n",
       "    }\n",
       "</style>\n",
       "<table border=\"1\" class=\"dataframe\">\n",
       "  <thead>\n",
       "    <tr style=\"text-align: right;\">\n",
       "      <th></th>\n",
       "      <th>Kidnap_Abduct</th>\n",
       "    </tr>\n",
       "    <tr>\n",
       "      <th>States</th>\n",
       "      <th></th>\n",
       "    </tr>\n",
       "  </thead>\n",
       "  <tbody>\n",
       "    <tr>\n",
       "      <th>uttar pradesh</th>\n",
       "      <td>135906</td>\n",
       "    </tr>\n",
       "    <tr>\n",
       "      <th>rajasthan</th>\n",
       "      <td>66278</td>\n",
       "    </tr>\n",
       "    <tr>\n",
       "      <th>assam</th>\n",
       "      <td>62074</td>\n",
       "    </tr>\n",
       "    <tr>\n",
       "      <th>west bengal</th>\n",
       "      <td>61158</td>\n",
       "    </tr>\n",
       "    <tr>\n",
       "      <th>bihar</th>\n",
       "      <td>57086</td>\n",
       "    </tr>\n",
       "  </tbody>\n",
       "</table>\n",
       "</div>"
      ],
      "text/plain": [
       "               Kidnap_Abduct\n",
       "States                      \n",
       "uttar pradesh         135906\n",
       "rajasthan              66278\n",
       "assam                  62074\n",
       "west bengal            61158\n",
       "bihar                  57086"
      ]
     },
     "execution_count": 205,
     "metadata": {},
     "output_type": "execute_result"
    }
   ],
   "source": [
    "State_Total.sort_values('Kidnap_Abduct',ascending=False)[['Kidnap_Abduct']].head()"
   ]
  },
  {
   "cell_type": "markdown",
   "metadata": {},
   "source": [
    "#### Uttar Pradesh leads the list in terms of Kidnapping & Abducting women between 2001- 2014"
   ]
  },
  {
   "cell_type": "code",
   "execution_count": 206,
   "metadata": {},
   "outputs": [
    {
     "data": {
      "text/html": [
       "<div>\n",
       "<style scoped>\n",
       "    .dataframe tbody tr th:only-of-type {\n",
       "        vertical-align: middle;\n",
       "    }\n",
       "\n",
       "    .dataframe tbody tr th {\n",
       "        vertical-align: top;\n",
       "    }\n",
       "\n",
       "    .dataframe thead th {\n",
       "        text-align: right;\n",
       "    }\n",
       "</style>\n",
       "<table border=\"1\" class=\"dataframe\">\n",
       "  <thead>\n",
       "    <tr style=\"text-align: right;\">\n",
       "      <th></th>\n",
       "      <th>Dowry_Deaths</th>\n",
       "    </tr>\n",
       "    <tr>\n",
       "      <th>States</th>\n",
       "      <th></th>\n",
       "    </tr>\n",
       "  </thead>\n",
       "  <tbody>\n",
       "    <tr>\n",
       "      <th>uttar pradesh</th>\n",
       "      <td>57256</td>\n",
       "    </tr>\n",
       "    <tr>\n",
       "      <th>bihar</th>\n",
       "      <td>32206</td>\n",
       "    </tr>\n",
       "    <tr>\n",
       "      <th>madhya pradesh</th>\n",
       "      <td>21090</td>\n",
       "    </tr>\n",
       "    <tr>\n",
       "      <th>andhra pradesh</th>\n",
       "      <td>13844</td>\n",
       "    </tr>\n",
       "    <tr>\n",
       "      <th>west bengal</th>\n",
       "      <td>12308</td>\n",
       "    </tr>\n",
       "  </tbody>\n",
       "</table>\n",
       "</div>"
      ],
      "text/plain": [
       "                Dowry_Deaths\n",
       "States                      \n",
       "uttar pradesh          57256\n",
       "bihar                  32206\n",
       "madhya pradesh         21090\n",
       "andhra pradesh         13844\n",
       "west bengal            12308"
      ]
     },
     "execution_count": 206,
     "metadata": {},
     "output_type": "execute_result"
    }
   ],
   "source": [
    "State_Total.sort_values('Dowry_Deaths',ascending=False)[['Dowry_Deaths']].head()"
   ]
  },
  {
   "cell_type": "markdown",
   "metadata": {},
   "source": [
    "#### Again, Uttar Pradesh leads the list in terms of Dowry Deaths. "
   ]
  },
  {
   "cell_type": "code",
   "execution_count": 207,
   "metadata": {},
   "outputs": [
    {
     "data": {
      "text/html": [
       "<div>\n",
       "<style scoped>\n",
       "    .dataframe tbody tr th:only-of-type {\n",
       "        vertical-align: middle;\n",
       "    }\n",
       "\n",
       "    .dataframe tbody tr th {\n",
       "        vertical-align: top;\n",
       "    }\n",
       "\n",
       "    .dataframe thead th {\n",
       "        text-align: right;\n",
       "    }\n",
       "</style>\n",
       "<table border=\"1\" class=\"dataframe\">\n",
       "  <thead>\n",
       "    <tr style=\"text-align: right;\">\n",
       "      <th></th>\n",
       "      <th>Domestic_Violence</th>\n",
       "    </tr>\n",
       "    <tr>\n",
       "      <th>States</th>\n",
       "      <th></th>\n",
       "    </tr>\n",
       "  </thead>\n",
       "  <tbody>\n",
       "    <tr>\n",
       "      <th>west bengal</th>\n",
       "      <td>344124</td>\n",
       "    </tr>\n",
       "    <tr>\n",
       "      <th>andhra pradesh</th>\n",
       "      <td>280906</td>\n",
       "    </tr>\n",
       "    <tr>\n",
       "      <th>rajasthan</th>\n",
       "      <td>262200</td>\n",
       "    </tr>\n",
       "    <tr>\n",
       "      <th>uttar pradesh</th>\n",
       "      <td>193738</td>\n",
       "    </tr>\n",
       "    <tr>\n",
       "      <th>maharashtra</th>\n",
       "      <td>193202</td>\n",
       "    </tr>\n",
       "  </tbody>\n",
       "</table>\n",
       "</div>"
      ],
      "text/plain": [
       "                Domestic_Violence\n",
       "States                           \n",
       "west bengal                344124\n",
       "andhra pradesh             280906\n",
       "rajasthan                  262200\n",
       "uttar pradesh              193738\n",
       "maharashtra                193202"
      ]
     },
     "execution_count": 207,
     "metadata": {},
     "output_type": "execute_result"
    }
   ],
   "source": [
    "State_Total.sort_values('Domestic_Violence',ascending=False)[['Domestic_Violence']].head()"
   ]
  },
  {
   "cell_type": "markdown",
   "metadata": {},
   "source": [
    "#### West Bengal Leads the list in terms of Domestic Violence "
   ]
  },
  {
   "cell_type": "code",
   "execution_count": 208,
   "metadata": {},
   "outputs": [
    {
     "data": {
      "text/html": [
       "<div>\n",
       "<style scoped>\n",
       "    .dataframe tbody tr th:only-of-type {\n",
       "        vertical-align: middle;\n",
       "    }\n",
       "\n",
       "    .dataframe tbody tr th {\n",
       "        vertical-align: top;\n",
       "    }\n",
       "\n",
       "    .dataframe thead th {\n",
       "        text-align: right;\n",
       "    }\n",
       "</style>\n",
       "<table border=\"1\" class=\"dataframe\">\n",
       "  <thead>\n",
       "    <tr style=\"text-align: right;\">\n",
       "      <th></th>\n",
       "      <th>Importing_Girls</th>\n",
       "    </tr>\n",
       "    <tr>\n",
       "      <th>States</th>\n",
       "      <th></th>\n",
       "    </tr>\n",
       "  </thead>\n",
       "  <tbody>\n",
       "    <tr>\n",
       "      <th>bihar</th>\n",
       "      <td>904</td>\n",
       "    </tr>\n",
       "    <tr>\n",
       "      <th>jharkhand</th>\n",
       "      <td>298</td>\n",
       "    </tr>\n",
       "    <tr>\n",
       "      <th>west bengal</th>\n",
       "      <td>254</td>\n",
       "    </tr>\n",
       "    <tr>\n",
       "      <th>madhya pradesh</th>\n",
       "      <td>134</td>\n",
       "    </tr>\n",
       "    <tr>\n",
       "      <th>karnataka</th>\n",
       "      <td>94</td>\n",
       "    </tr>\n",
       "  </tbody>\n",
       "</table>\n",
       "</div>"
      ],
      "text/plain": [
       "                Importing_Girls\n",
       "States                         \n",
       "bihar                       904\n",
       "jharkhand                   298\n",
       "west bengal                 254\n",
       "madhya pradesh              134\n",
       "karnataka                    94"
      ]
     },
     "execution_count": 208,
     "metadata": {},
     "output_type": "execute_result"
    }
   ],
   "source": [
    "State_Total.sort_values('Importing_Girls',ascending=False)[['Importing_Girls']].head()"
   ]
  },
  {
   "cell_type": "markdown",
   "metadata": {},
   "source": [
    "#### Bihar tops the list in Importing Girls by a wide margin. "
   ]
  },
  {
   "cell_type": "markdown",
   "metadata": {},
   "source": [
    "#### Getting some combinations with some Questions such as below. "
   ]
  },
  {
   "cell_type": "markdown",
   "metadata": {},
   "source": [
    "#### - State with Max number of Rape cases & Max number of Dowry deaths"
   ]
  },
  {
   "cell_type": "code",
   "execution_count": 209,
   "metadata": {},
   "outputs": [
    {
     "data": {
      "text/html": [
       "<div>\n",
       "<style scoped>\n",
       "    .dataframe tbody tr th:only-of-type {\n",
       "        vertical-align: middle;\n",
       "    }\n",
       "\n",
       "    .dataframe tbody tr th {\n",
       "        vertical-align: top;\n",
       "    }\n",
       "\n",
       "    .dataframe thead th {\n",
       "        text-align: right;\n",
       "    }\n",
       "</style>\n",
       "<table border=\"1\" class=\"dataframe\">\n",
       "  <thead>\n",
       "    <tr style=\"text-align: right;\">\n",
       "      <th></th>\n",
       "      <th>States</th>\n",
       "      <th>Rape</th>\n",
       "      <th>Year</th>\n",
       "      <th>Dowry_Deaths</th>\n",
       "    </tr>\n",
       "  </thead>\n",
       "  <tbody>\n",
       "    <tr>\n",
       "      <th>0</th>\n",
       "      <td>uttar pradesh</td>\n",
       "      <td>3467</td>\n",
       "      <td>2014</td>\n",
       "      <td>2469</td>\n",
       "    </tr>\n",
       "  </tbody>\n",
       "</table>\n",
       "</div>"
      ],
      "text/plain": [
       "          States  Rape  Year  Dowry_Deaths\n",
       "0  uttar pradesh  3467  2014          2469"
      ]
     },
     "execution_count": 209,
     "metadata": {},
     "output_type": "execute_result"
    }
   ],
   "source": [
    "Rape_max.merge(Dowry_max)"
   ]
  },
  {
   "cell_type": "markdown",
   "metadata": {},
   "source": [
    "#### - UttarPradesh has max Rape & Dowry Deaths in a combination"
   ]
  },
  {
   "cell_type": "markdown",
   "metadata": {},
   "source": [
    "#### - State with Max number of Rape violence & Max number of Importtaion of Girls"
   ]
  },
  {
   "cell_type": "code",
   "execution_count": 210,
   "metadata": {},
   "outputs": [
    {
     "data": {
      "text/html": [
       "<div>\n",
       "<style scoped>\n",
       "    .dataframe tbody tr th:only-of-type {\n",
       "        vertical-align: middle;\n",
       "    }\n",
       "\n",
       "    .dataframe tbody tr th {\n",
       "        vertical-align: top;\n",
       "    }\n",
       "\n",
       "    .dataframe thead th {\n",
       "        text-align: right;\n",
       "    }\n",
       "</style>\n",
       "<table border=\"1\" class=\"dataframe\">\n",
       "  <thead>\n",
       "    <tr style=\"text-align: right;\">\n",
       "      <th></th>\n",
       "      <th>States</th>\n",
       "      <th>Rape</th>\n",
       "      <th>Year</th>\n",
       "      <th>Importing_Girls</th>\n",
       "    </tr>\n",
       "  </thead>\n",
       "  <tbody>\n",
       "    <tr>\n",
       "      <th>0</th>\n",
       "      <td>madhya pradesh</td>\n",
       "      <td>3406</td>\n",
       "      <td>2011</td>\n",
       "      <td>45</td>\n",
       "    </tr>\n",
       "  </tbody>\n",
       "</table>\n",
       "</div>"
      ],
      "text/plain": [
       "           States  Rape  Year  Importing_Girls\n",
       "0  madhya pradesh  3406  2011               45"
      ]
     },
     "execution_count": 210,
     "metadata": {},
     "output_type": "execute_result"
    }
   ],
   "source": [
    "Rape_max.merge(Importing_Girls_max)"
   ]
  },
  {
   "cell_type": "markdown",
   "metadata": {},
   "source": [
    "#### - Madhya Pradesh tops the list in both these categories. "
   ]
  },
  {
   "cell_type": "code",
   "execution_count": null,
   "metadata": {},
   "outputs": [],
   "source": []
  },
  {
   "cell_type": "markdown",
   "metadata": {},
   "source": [
    "#### Hopefully, this was useful & we have already gained much insights with the data as & when we had observed. "
   ]
  },
  {
   "cell_type": "code",
   "execution_count": 211,
   "metadata": {},
   "outputs": [],
   "source": [
    "###END###"
   ]
  },
  {
   "cell_type": "code",
   "execution_count": null,
   "metadata": {},
   "outputs": [],
   "source": []
  },
  {
   "cell_type": "code",
   "execution_count": null,
   "metadata": {},
   "outputs": [],
   "source": []
  }
 ],
 "metadata": {
  "kernelspec": {
   "display_name": "Python 3",
   "language": "python",
   "name": "python3"
  },
  "language_info": {
   "codemirror_mode": {
    "name": "ipython",
    "version": 3
   },
   "file_extension": ".py",
   "mimetype": "text/x-python",
   "name": "python",
   "nbconvert_exporter": "python",
   "pygments_lexer": "ipython3",
   "version": "3.7.6"
  }
 },
 "nbformat": 4,
 "nbformat_minor": 4
}
